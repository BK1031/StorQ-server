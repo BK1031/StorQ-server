{
  "nbformat": 4,
  "nbformat_minor": 0,
  "metadata": {
    "colab": {
      "name": "Malai.ipynb",
      "provenance": [],
      "collapsed_sections": [],
      "include_colab_link": true
    },
    "kernelspec": {
      "name": "python3",
      "display_name": "Python 3"
    }
  },
  "cells": [
    {
      "cell_type": "markdown",
      "metadata": {
        "id": "view-in-github",
        "colab_type": "text"
      },
      "source": [
        "<a href=\"https://colab.research.google.com/github/Equinox-Initiative/StoreQ-server/blob/master/Malai.ipynb\" target=\"_parent\"><img src=\"https://colab.research.google.com/assets/colab-badge.svg\" alt=\"Open In Colab\"/></a>"
      ]
    },
    {
      "cell_type": "markdown",
      "metadata": {
        "id": "SKFj7GtxmtMP",
        "colab_type": "text"
      },
      "source": [
        "Pulling Info From Firebase"
      ]
    },
    {
      "cell_type": "code",
      "metadata": {
        "id": "XZlYlPIFq4Xl",
        "colab_type": "code",
        "colab": {}
      },
      "source": [
        "import math"
      ],
      "execution_count": 0,
      "outputs": []
    },
    {
      "cell_type": "code",
      "metadata": {
        "id": "RTMRkuMik0Rl",
        "colab_type": "code",
        "outputId": "f16a57b5-8290-4139-a73a-9828ab2b3ac3",
        "colab": {
          "base_uri": "https://localhost:8080/",
          "height": 354
        }
      },
      "source": [
        "import firebase_admin\n",
        "from firebase_admin import credentials\n",
        "from firebase_admin import db\n",
        "\n",
        "cred = credentials.Certificate(\"/content/project-malai-firebase-adminsdk-6w258-06015654e5.json\")\n",
        "\n",
        "firebase_admin.initialize_app(cred, {\n",
        "    'databaseURL': 'https://project-malai.firebaseio.com/'\n",
        "})"
      ],
      "execution_count": 0,
      "outputs": [
        {
          "output_type": "error",
          "ename": "ValueError",
          "evalue": "ignored",
          "traceback": [
            "\u001b[0;31m---------------------------------------------------------------------------\u001b[0m",
            "\u001b[0;31mValueError\u001b[0m                                Traceback (most recent call last)",
            "\u001b[0;32m<ipython-input-143-35b19b02e86c>\u001b[0m in \u001b[0;36m<module>\u001b[0;34m()\u001b[0m\n\u001b[1;32m      6\u001b[0m \u001b[0;34m\u001b[0m\u001b[0m\n\u001b[1;32m      7\u001b[0m firebase_admin.initialize_app(cred, {\n\u001b[0;32m----> 8\u001b[0;31m     \u001b[0;34m'databaseURL'\u001b[0m\u001b[0;34m:\u001b[0m \u001b[0;34m'https://project-malai.firebaseio.com/'\u001b[0m\u001b[0;34m\u001b[0m\u001b[0;34m\u001b[0m\u001b[0m\n\u001b[0m\u001b[1;32m      9\u001b[0m })\n",
            "\u001b[0;32m/usr/local/lib/python3.6/dist-packages/firebase_admin/__init__.py\u001b[0m in \u001b[0;36minitialize_app\u001b[0;34m(credential, options, name)\u001b[0m\n\u001b[1;32m     70\u001b[0m     \u001b[0;32mif\u001b[0m \u001b[0mname\u001b[0m \u001b[0;34m==\u001b[0m \u001b[0m_DEFAULT_APP_NAME\u001b[0m\u001b[0;34m:\u001b[0m\u001b[0;34m\u001b[0m\u001b[0;34m\u001b[0m\u001b[0m\n\u001b[1;32m     71\u001b[0m         raise ValueError((\n\u001b[0;32m---> 72\u001b[0;31m             \u001b[0;34m'The default Firebase app already exists. This means you called '\u001b[0m\u001b[0;34m\u001b[0m\u001b[0;34m\u001b[0m\u001b[0m\n\u001b[0m\u001b[1;32m     73\u001b[0m             \u001b[0;34m'initialize_app() more than once without providing an app name as '\u001b[0m\u001b[0;34m\u001b[0m\u001b[0;34m\u001b[0m\u001b[0m\n\u001b[1;32m     74\u001b[0m             \u001b[0;34m'the second argument. In most cases you only need to call '\u001b[0m\u001b[0;34m\u001b[0m\u001b[0;34m\u001b[0m\u001b[0m\n",
            "\u001b[0;31mValueError\u001b[0m: The default Firebase app already exists. This means you called initialize_app() more than once without providing an app name as the second argument. In most cases you only need to call initialize_app() once. But if you do want to initialize multiple apps, pass a second argument to initialize_app() to give each app a unique name."
          ]
        }
      ]
    },
    {
      "cell_type": "code",
      "metadata": {
        "id": "MvxmF_nYomHd",
        "colab_type": "code",
        "colab": {}
      },
      "source": [
        "def checkIfSameItem (userEnteredItem, actualItemName, actualItemPath):\n",
        "  itemTags = db.reference(actualItemPath+\"/tags\").get()\n",
        "  if \",\" in itemTags:\n",
        "    tagArray = itemTags.split(\",\")\n",
        "    for tag in tagArray:\n",
        "      if userEnteredItem in tag:\n",
        "        return True\n",
        "  else:\n",
        "    if userEnteredItem in itemTags:\n",
        "      return True\n",
        "  \n",
        "  if userEnteredItem in actualItemName:\n",
        "    return True\n",
        "\n",
        "  return False\n",
        "  "
      ],
      "execution_count": 0,
      "outputs": []
    },
    {
      "cell_type": "code",
      "metadata": {
        "id": "-pNlodw1mMlp",
        "colab_type": "code",
        "colab": {}
      },
      "source": [
        "def getAisleWithItem (storeID, itemName):\n",
        "  aislesRef = db.reference(\"/stores/\"+storeID+\"/aisles\")\n",
        "  aisles = aislesRef.get() #dict of aisles\n",
        "\n",
        "  aisleIDs = list(aisles.keys())\n",
        "\n",
        "  for aisleID in aisleIDs:\n",
        "    items = db.reference(\"/stores/\"+storeID+\"/aisles/\"+aisleID+\"/items\").get()\n",
        "    actualItemNames = list(items.keys())\n",
        "\n",
        "    for actualItem in actualItemNames:\n",
        "      if checkIfSameItem(itemName, actualItem, \"/stores/\"+storeID+\"/aisles/\"+aisleID+\"/items/\"+actualItem):\n",
        "        quantity = db.reference(\"/stores/\"+storeID+\"/aisles/\"+aisleID+\"/items/\"+actualItem+\"/quantity\").get()\n",
        "        return str(aisleID)# + \":\" + str(quantity)\n",
        "    \n",
        "  return \"-1\""
      ],
      "execution_count": 0,
      "outputs": []
    },
    {
      "cell_type": "code",
      "metadata": {
        "id": "lRlfJE_h5WNR",
        "colab_type": "code",
        "colab": {}
      },
      "source": [
        "def storesWithinDistance (userLatitude, userLongitude, willingTime):\n",
        "  storesWithin = []\n",
        "\n",
        "  allStores = db.reference(\"/stores\").get()\n",
        "  allStoreIDs = list(allStores.keys())\n",
        "\n",
        "  for storeID in allStoreIDs:\n",
        "    #PUT GOOGLE MAPS DISTANCE MATRIX API CALCULATIONS IN HERE - nvm\n",
        "    storeLat = db.reference(\"/stores/\"+storeID+\"/lat\").get()\n",
        "    storeLong = db.reference(\"/stores/\"+storeID+\"/long\").get()\n",
        "\n",
        "    distance = calculate_distance(userLatitude,userLongitude,storeLat,storeLong)\n",
        "\n",
        "    distanceInMiles = distance*69.0 #degrees to miles\n",
        "\n",
        "    storesWithin.append(storeID)\n",
        "\n",
        "  return storesWithin"
      ],
      "execution_count": 0,
      "outputs": []
    },
    {
      "cell_type": "code",
      "metadata": {
        "id": "0h8cSvPLfwtL",
        "colab_type": "code",
        "colab": {}
      },
      "source": [
        "def calculatePotentialTrips (userID):\n",
        "  userLat = db.reference(\"/users/\"+userID+\"/latitude/\").get()\n",
        "  userLong = db.reference(\"/users/\"+userID+\"/longitude/\").get()\n",
        "  willingTimeToTravel = db.reference(\"/users/\"+userID+\"/willingTimeToTravel/\")\n",
        "\n",
        "  storesToCheck = storesWithinDistance(userLat, userLong, willingTimeToTravel)\n",
        "\n",
        "  avaliableStores = \"\"\n",
        "\n",
        "  shoppingList = db.reference(\"/users/\"+userID+\"/shoppingList/\").get()\n",
        "  itemNames = list(shoppingList.keys())\n",
        "\n",
        "  for store in storesToCheck:\n",
        "    itemsAvailable = []\n",
        "\n",
        "    for itemName in itemNames:\n",
        "      aisleAndQuantity = getAisleWithItem(store, itemName)\n",
        "\n",
        "      if (aisleAndQuantity != \"-1\"):\n",
        "         itemsAvailable.append(itemName)\n",
        "\n",
        "    percent = float(len(itemsAvailable))/float(len(itemNames))\n",
        "\n",
        "    storeRef = db.reference(\"/users/\"+userID+\"/potentialTrips/\"+store)\n",
        "\n",
        "    itemString = \"\"\n",
        "    for item in itemsAvailable:\n",
        "      itemString+=item+\",\"\n",
        "\n",
        "    storeRef.update({\n",
        "        'items': itemString[:-1]\n",
        "    })\n",
        "\n",
        "    storeRef.update({\n",
        "        'percentOfList': str(percent)\n",
        "    })"
      ],
      "execution_count": 0,
      "outputs": []
    },
    {
      "cell_type": "code",
      "metadata": {
        "id": "Z-WEIlUkniTC",
        "colab_type": "code",
        "colab": {}
      },
      "source": [
        "calculatePotentialTrips(\"EcQmsQreYsXtdTj6yqrtde7xYYh2\")"
      ],
      "execution_count": 0,
      "outputs": []
    },
    {
      "cell_type": "code",
      "metadata": {
        "id": "efLwaGvC43xD",
        "colab_type": "code",
        "colab": {}
      },
      "source": [
        "def calculate_distance(x1, y1, x2, y2):\n",
        "    return math.sqrt((math.pow(x2-x1, 2)) + (math.pow(y2-y1, 2))) "
      ],
      "execution_count": 0,
      "outputs": []
    },
    {
      "cell_type": "code",
      "metadata": {
        "id": "_FhUErFd6u_D",
        "colab_type": "code",
        "colab": {}
      },
      "source": [
        "def getPersonAisles(personID, storeID):\n",
        "    if db.reference(\"/users/\"+personID+\"/potentialTrips/\"+storeID+\"/items\").get() is None:\n",
        "      return\n",
        "    else:\n",
        "      items = db.reference(\"/users/\"+personID+\"/potentialTrips/\"+storeID+\"/items\").get().split(\",\")\n",
        "      aisles = []\n",
        "      if items is None:\n",
        "        return\n",
        "      for item in items:\n",
        "          aisles = getAisleWithItem(storeID, item)\n",
        "    return aisles"
      ],
      "execution_count": 0,
      "outputs": []
    },
    {
      "cell_type": "code",
      "metadata": {
        "id": "CGJy2SBO4Rvb",
        "colab_type": "code",
        "outputId": "33d4231e-b54e-4147-a2f7-3d35ed0023b1",
        "colab": {
          "base_uri": "https://localhost:8080/",
          "height": 34
        }
      },
      "source": [
        "getPersonAisles(\"EcQmsQreYsXtdTj6yqrtde7xYYh2\", \"placeholder-id\")"
      ],
      "execution_count": 0,
      "outputs": [
        {
          "output_type": "execute_result",
          "data": {
            "text/plain": [
              "'aisle0'"
            ]
          },
          "metadata": {
            "tags": []
          },
          "execution_count": 207
        }
      ]
    },
    {
      "cell_type": "code",
      "metadata": {
        "id": "FYQq5wccMbw9",
        "colab_type": "code",
        "colab": {}
      },
      "source": [
        "def getPersonAvailableTimes(personID):\n",
        "    availableTimes = []\n",
        "    availableTimesString = \"\"\n",
        "    availableTimesString = db.reference(\"/users/\"+personID+\"/availableTimes\").get().split(\",\")\n",
        "    for i in availableTimesString:\n",
        "      availableTimes.append(i)\n",
        "    return availableTimes"
      ],
      "execution_count": 0,
      "outputs": []
    },
    {
      "cell_type": "code",
      "metadata": {
        "id": "dT5f4o4qZC96",
        "colab_type": "code",
        "colab": {}
      },
      "source": [
        "def getPeopleScheduledInTimeSlot(storeID, timeSlot):\n",
        "    users = []\n",
        "    usersString = \"\"\n",
        "    usersString = db.reference(\"/stores/\"+storeID+\"/times/\"+timeSlot).get().split(\",\")\n",
        "    for i in usersString:\n",
        "        users.append(i)\n",
        "    return users"
      ],
      "execution_count": 0,
      "outputs": []
    },
    {
      "cell_type": "code",
      "metadata": {
        "id": "EPCgecRpZsj7",
        "colab_type": "code",
        "colab": {}
      },
      "source": [
        "def getNumPeopleScheduledInTimeSlot(storeID, timeSlot):\n",
        "    users = []\n",
        "    users = getPeopleScheduledInTimeSlot(storeID, timeSlot)\n",
        "    return len(users)"
      ],
      "execution_count": 0,
      "outputs": []
    },
    {
      "cell_type": "code",
      "metadata": {
        "id": "FwImIxO1hcS7",
        "colab_type": "code",
        "colab": {}
      },
      "source": [
        "def recommendTimes(personID, storeID, maxNumPeopleInStore, greenNumPeoplePerAisle, yellowNumPeoplePerAisle):\n",
        "    timeStatusRef = db.reference(\"/users/\"+personID+\"/potentialTrips/\"+storeID+\"/times\")\n",
        "    availableTimes = []\n",
        "    availableTimes = getPersonAvailableTimes(personID)\n",
        "    peopleInTimeSlot = []\n",
        "    userAisles = []\n",
        "    userAisles.append(getPersonAisles(personID, storeID))\n",
        "    print(userAisles[0])\n",
        "    green = False\n",
        "    for time in availableTimes:\n",
        "        peopleInTimeSlot = getPeopleScheduledInTimeSlot(storeID, time)\n",
        "        print(peopleInTimeSlot)\n",
        "        if (getNumPeopleScheduledInTimeSlot(storeID, time) > maxNumPeopleInStore):\n",
        "            timeStatusRef.update({\n",
        "                str(time): \"red\"\n",
        "            })\n",
        "        else:\n",
        "            print(\"In else statement...\")\n",
        "            for aisle in userAisles:\n",
        "                n = 0\n",
        "                for person in peopleInTimeSlot:\n",
        "                    personAisles = getPersonAisles(person, storeID)\n",
        "                    if aisle == personAisles:\n",
        "                        n = n+1\n",
        "                if n <= greenNumPeoplePerAisle:\n",
        "                    gyr = True\n",
        "                elif n > greenNumPeoplePerAisle and n <= yellowNumPeoplePerAisle:\n",
        "                    timeStatusRef.update({\n",
        "                        str(time): \"yellow\"\n",
        "                    })\n",
        "                    green = False\n",
        "                    break\n",
        "                else:\n",
        "                    timeStatusRef.update({\n",
        "                        str(time): \"red\"\n",
        "                    })\n",
        "                    green = False\n",
        "                    break\n",
        "            if green:\n",
        "                timeStatusRef.update({\n",
        "                    str(time): \"green\"\n",
        "                })"
      ],
      "execution_count": 0,
      "outputs": []
    },
    {
      "cell_type": "code",
      "metadata": {
        "id": "qrTK9qzHqkrH",
        "colab_type": "code",
        "outputId": "d3d03fbe-6f40-463b-c8cd-46102ac77c4a",
        "colab": {
          "base_uri": "https://localhost:8080/",
          "height": 85
        }
      },
      "source": [
        "calculatePotentialTrips(\"sjk8YXy2vFWHvjNpzi2ms0i9rZu1\")\n",
        "recommendTimes(\"sjk8YXy2vFWHvjNpzi2ms0i9rZu1\", \"placeholder-id\", 1,1,3)"
      ],
      "execution_count": 0,
      "outputs": [
        {
          "output_type": "stream",
          "text": [
            "aisle1\n",
            "['pvtaAiesT6MR2Vdn9afHGitJ1oR2', ' EcQmsQreYsXtdTj6yqrtde7xYYh2']\n",
            "['jHpzojL6RwTfAEGWs7e23cwNciw1']\n",
            "In else statement...\n"
          ],
          "name": "stdout"
        }
      ]
    },
    {
      "cell_type": "code",
      "metadata": {
        "id": "nM_7wjhDhepq",
        "colab_type": "code",
        "colab": {}
      },
      "source": [
        "def addUserTimesToStore (userID, tripStoreID):\n",
        "  timeRef = db.reference(\"/users/\"+userID+\"/trips/\"+tripStoreID+\"/time\")\n",
        "  time = timeRef.get()\n",
        "\n",
        "  storeTimesRef = db.reference(\"/stores/\"+tripStoreID+\"/times\")\n",
        "  peopleInStoreAtTime = db.reference(\"/stores/\"+tripStoreID+\"/times/\"+time)\n",
        "\n",
        "  if userID not in peopleInStoreAtTime.get():\n",
        "    storeTimesRef.update({\n",
        "        str(time): peopleInStoreAtTime.get()+\",\"+userID\n",
        "    })\n",
        "\n",
        "    items = list(db.reference(\"/users/\"+userID+\"/trips/\"+tripStoreID+\"/items\").get().keys)\n",
        "\n",
        "    alreadyAddedAisles = []\n",
        "    for item in items:\n",
        "      aisle = getAisleWithItem(tripStoreID, item)\n",
        "      if aisle not in alreadyAddedAisles:\n",
        "        alreadyAddedAisles.append(aisle)\n",
        "\n",
        "        aisleQuantityRef = db.reference(\"/store/\"+tripStoreID+\"/aisles/\"+aisle+\"/times/\"+time)\n",
        "        quantity = aisleQuantityRef.get()\n",
        "        aisleQuantityRef.update({\n",
        "          str(time): quantity+1\n",
        "        })\n",
        "\n",
        "  "
      ],
      "execution_count": 0,
      "outputs": []
    },
    {
      "cell_type": "code",
      "metadata": {
        "id": "G5LBuJ9tlmlq",
        "colab_type": "code",
        "colab": {}
      },
      "source": [
        "addUserTimesToStore(\"pvtaAiesT6MR2Vdn9afHGitJ1oR2\", \"placeholder-id\")"
      ],
      "execution_count": 0,
      "outputs": []
    }
  ]
}