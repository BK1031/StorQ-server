{
  "nbformat": 4,
  "nbformat_minor": 0,
  "metadata": {
    "colab": {
      "name": "Malai.ipynb",
      "provenance": [],
      "collapsed_sections": [],
      "include_colab_link": true
    },
    "kernelspec": {
      "name": "python3",
      "display_name": "Python 3"
    }
  },
  "cells": [
    {
      "cell_type": "markdown",
      "metadata": {
        "id": "view-in-github",
        "colab_type": "text"
      },
      "source": [
        "<a href=\"https://colab.research.google.com/github/Equinox-Initiative/Project-Malai-server/blob/master/Malai.ipynb\" target=\"_parent\"><img src=\"https://colab.research.google.com/assets/colab-badge.svg\" alt=\"Open In Colab\"/></a>"
      ]
    },
    {
      "cell_type": "markdown",
      "metadata": {
        "id": "SKFj7GtxmtMP",
        "colab_type": "text"
      },
      "source": [
        "Pulling Info From Firebase"
      ]
    },
    {
      "cell_type": "code",
      "metadata": {
        "id": "RTMRkuMik0Rl",
        "colab_type": "code",
        "outputId": "4263fa52-4bbe-434f-e068-8a1c7fc23730",
        "colab": {
          "base_uri": "https://localhost:8080/",
          "height": 34
        }
      },
      "source": [
        "import firebase_admin\n",
        "from firebase_admin import credentials\n",
        "from firebase_admin import db\n",
        "\n",
        "cred = credentials.Certificate(\"/content/project-malai-firebase-adminsdk-6w258-06015654e5.json\")\n",
        "\n",
        "firebase_admin.initialize_app(cred, {\n",
        "    'databaseURL': 'https://project-malai.firebaseio.com/'\n",
        "})"
      ],
      "execution_count": 0,
      "outputs": [
        {
          "output_type": "execute_result",
          "data": {
            "text/plain": [
              "<firebase_admin.App at 0x7f76362737f0>"
            ]
          },
          "metadata": {
            "tags": []
          },
          "execution_count": 1
        }
      ]
    },
    {
      "cell_type": "code",
      "metadata": {
        "id": "MvxmF_nYomHd",
        "colab_type": "code",
        "colab": {}
      },
      "source": [
        "def checkIfSameItem (userEnteredItem, actualItemName, actualItemPath):\n",
        "  itemTags = db.reference(actualItemPath+\"/tags\").get()\n",
        "  if \",\" in itemTags:\n",
        "    tagArray = itemTags.split(\",\")\n",
        "    for tag in tagArray:\n",
        "      if userEnteredItem in tag:\n",
        "        return True\n",
        "  else:\n",
        "    if userEnteredItem in itemTags:\n",
        "      return True\n",
        "  \n",
        "  if userEnteredItem in actualItemName:\n",
        "    return True\n",
        "\n",
        "  return False\n",
        "  "
      ],
      "execution_count": 0,
      "outputs": []
    },
    {
      "cell_type": "code",
      "metadata": {
        "id": "-pNlodw1mMlp",
        "colab_type": "code",
        "colab": {}
      },
      "source": [
        "def getAisleWithItem (storeID, itemName):\n",
        "  aislesRef = db.reference(\"/stores/\"+storeID+\"/aisles\")\n",
        "  aisles = aislesRef.get() #dict of aisles\n",
        "\n",
        "  aisleIDs = list(aisles.keys())\n",
        "\n",
        "  for aisleID in aisleIDs:\n",
        "    items = db.reference(\"/stores/\"+storeID+\"/aisles/\"+aisleID+\"/items\").get()\n",
        "    actualItemNames = list(items.keys())\n",
        "\n",
        "    for actualItem in actualItemNames:\n",
        "      if checkIfSameItem(itemName, actualItem, \"/stores/\"+storeID+\"/aisles/\"+aisleID+\"/items/\"+actualItem):\n",
        "        quantity = db.reference(\"/stores/\"+storeID+\"/aisles/\"+aisleID+\"/items/\"+actualItem+\"/quantity\").get()\n",
        "        return str(aisleID) + \":\" + str(quantity)\n",
        "    \n",
        "  return \"-1\""
      ],
      "execution_count": 0,
      "outputs": []
    },
    {
      "cell_type": "code",
      "metadata": {
        "id": "lRlfJE_h5WNR",
        "colab_type": "code",
        "colab": {}
      },
      "source": [
        "def storesWithinDistance (userLatitude, userLongitude, willingTime):\n",
        "  storesWithin = []\n",
        "\n",
        "  allStores = db.reference(\"/stores\")\n",
        "  allStoreIDs = list(allStores.keys())\n",
        "\n",
        "  for storeID in allStoreIDs:\n",
        "    #PUT GOOGLE MAPS DISTANCE MATRIX API CALCULATIONS IN HERE\n",
        "\n",
        "    storesWithin.append(storeID)\n",
        "\n",
        "  return storesWithin"
      ],
      "execution_count": 0,
      "outputs": []
    },
    {
      "cell_type": "code",
      "metadata": {
        "id": "e8lUJ48wHD06",
        "colab_type": "code",
        "colab": {}
      },
      "source": [
        "def percentOfShoppingListStoreHas (storeID, userID):\n",
        "  shoppingList = db.reference(\"/users/\"+userID+\"/shoppingList/\")\n",
        "  itemNames = list(shoppingList.keys())\n",
        "\n",
        "  numItems = 0\n",
        "\n",
        "  for itemName in itemNames:\n",
        "    aisleAndQuantity = getAisleWithItem(storeID, itemName)\n",
        "\n",
        "    if (aisleAndQuantity != \"-1\"):\n",
        "      numItems += 1\n",
        "\n",
        "  return double(numItems)/double(len(itemNames))"
      ],
      "execution_count": 0,
      "outputs": []
    },
    {
      "cell_type": "code",
      "metadata": {
        "id": "efLwaGvC43xD",
        "colab_type": "code",
        "colab": {}
      },
      "source": [
        "def calculate_distance(x1, y1, x2, y2):\n",
        "    return math.sqrt((math.pow(x2-x1, 2)) + (math.pow(y2-y1, 2))) "
      ],
      "execution_count": 0,
      "outputs": []
    },
    {
      "cell_type": "code",
      "metadata": {
        "id": "_FhUErFd6u_D",
        "colab_type": "code",
        "colab": {}
      },
      "source": [
        "def getPersonAisles(personID, storeID):\n",
        "    itemsRef = db.reference(\"/users/\"+personID+\"/trips/\"+storeID+\"/items\")\n",
        "    items = itemsRef.get()\n",
        "    itemIDs = list(items.keys())\n",
        "    n = 0\n",
        "\n",
        "    for itemID in itemIDs:\n",
        "        aisles[n] = db.reference(\"/stores/\"+storeID+\"/trips/\"+storeID+\"/items/\"+itemID).get()\n",
        "        n = n+1\n",
        "\n",
        "    return aisles"
      ],
      "execution_count": 0,
      "outputs": []
    }
  ]
}